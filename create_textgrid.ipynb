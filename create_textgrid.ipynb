{
 "cells": [
  {
   "cell_type": "code",
   "execution_count": 4,
   "metadata": {},
   "outputs": [],
   "source": [
    "import os\n",
    "import textgrids\n",
    "import subprocess\n",
    "import shutil\n",
    "from scipy.io import wavfile\n",
    "from src import asr"
   ]
  },
  {
   "cell_type": "markdown",
   "metadata": {},
   "source": [
    "### Define relevant paths and file locations."
   ]
  },
  {
   "cell_type": "code",
   "execution_count": 6,
   "metadata": {},
   "outputs": [
    {
     "name": "stdout",
     "output_type": "stream",
     "text": [
      "Found 1 audio files in input directory\n"
     ]
    }
   ],
   "source": [
    "mfa_root_dir = 'C:\\\\Users\\\\chris\\\\Documents\\\\MFA'\n",
    "input_dir = os.path.join(\"input_files\", \"test_dataset\", \"input\")\n",
    "output_dir = os.path.join(\"input_files\", \"test_dataset\", \"results\")\n",
    "pronunc_dict_dir = os.path.join(mfa_root_dir, 'pretrained_models', 'dictionary', 'german_mfa.dict')\n",
    "g2p_model_path = os.path.join(mfa_root_dir, 'pretrained_models', 'g2p', 'german_mfa.zip')\n",
    "acoustic_model_path = os.path.join(mfa_root_dir, 'pretrained_models', 'acoustic', 'german_mfa.zip')\n",
    "\n",
    "audio_files = os.listdir(input_dir)\n",
    "audio_file_prefix = [f.split('_')[0] for f in audio_files if f.endswith('.wav')]\n",
    "print(f\"Found {len(audio_file_prefix)} audio files in input directory\")"
   ]
  },
  {
   "cell_type": "markdown",
   "metadata": {},
   "source": [
    "### Create the textgrid files that will be populated during the alignment process."
   ]
  },
  {
   "cell_type": "code",
   "execution_count": 7,
   "metadata": {},
   "outputs": [],
   "source": [
    "for idx in audio_file_prefix:\n",
    "    text_file_path = os.path.join(input_dir, f\"{idx}_graphemes.txt\")\n",
    "    audio_file_path = os.path.join(input_dir, f\"{idx}_audio.wav\")\n",
    "\n",
    "    with open(text_file_path, 'r') as f:\n",
    "        graphemes = f.read().strip()\n",
    "        graphemes = asr.normalize_sentence(graphemes)\n",
    "\n",
    "    fs, audio = wavfile.read(audio_file_path)\n",
    "    assert audio.ndim == 1, \"Audio must be mono.\"\n",
    "\n",
    "    # Create a textgrid.\n",
    "    intervals = []\n",
    "    tg = textgrids.TextGrid()\n",
    "    xmax_s = len(audio) / fs\n",
    "    interval = textgrids.Interval(text=graphemes, xmin=0.0, xmax=xmax_s)\n",
    "    intervals.append(interval)\n",
    "    tier = textgrids.Tier(data=intervals, xmin=0.0, xmax=xmax_s)\n",
    "    tg['sentences'] = tier\n",
    "    tg.xmax = xmax_s\n",
    "\n",
    "    # Place the text file in the input directory.\n",
    "    textgrid_file_path = os.path.join(input_dir, f\"{idx}_textgrid.TextGrid\")\n",
    "    tg.write(textgrid_file_path)"
   ]
  },
  {
   "cell_type": "markdown",
   "metadata": {},
   "source": [
    "### Validate the sentences."
   ]
  },
  {
   "cell_type": "code",
   "execution_count": 8,
   "metadata": {},
   "outputs": [
    {
     "name": "stdout",
     "output_type": "stream",
     "text": [
      "Running command: mfa validate --debug --ignore_acoustics input_files\\test_dataset pretrained_models\\dictionary\\german_mfa.dict\n",
      "Traceback (most recent call last):\n",
      "  File \"C:\\Users\\chris\\.conda\\envs\\mfa\\lib\\site-packages\\soundfile.py\", line 161, in <module>\n",
      "    import _soundfile_data  # ImportError if this doesn't exist\n",
      "ModuleNotFoundError: No module named '_soundfile_data'\n",
      "\n",
      "During handling of the above exception, another exception occurred:\n",
      "\n",
      "Traceback (most recent call last):\n",
      "  File \"C:\\Users\\chris\\.conda\\envs\\mfa\\lib\\site-packages\\soundfile.py\", line 171, in <module>\n",
      "    _snd = _ffi.dlopen(_libname)\n",
      "OSError: cannot load library 'C:\\Users\\chris\\.conda\\envs\\mfa\\Library\\bin\\sndfile.dll': error 0x7e\n",
      "\n",
      "During handling of the above exception, another exception occurred:\n",
      "\n",
      "Traceback (most recent call last):\n",
      "  File \"C:\\Users\\chris\\.conda\\envs\\mfa\\Scripts\\mfa-script.py\", line 5, in <module>\n",
      "    from montreal_forced_aligner.command_line.mfa import mfa_cli\n",
      "  File \"C:\\Users\\chris\\.conda\\envs\\mfa\\lib\\site-packages\\montreal_forced_aligner\\__init__.py\", line 4, in <module>\n",
      "    import montreal_forced_aligner.acoustic_modeling as acoustic_modeling\n",
      "  File \"C:\\Users\\chris\\.conda\\envs\\mfa\\lib\\site-packages\\montreal_forced_aligner\\acoustic_modeling\\__init__.py\", line 7, in <module>\n",
      "    from montreal_forced_aligner.acoustic_modeling.base import AcousticModelTrainingMixin  # noqa\n",
      "  File \"C:\\Users\\chris\\.conda\\envs\\mfa\\lib\\site-packages\\montreal_forced_aligner\\acoustic_modeling\\base.py\", line 19, in <module>\n",
      "    from montreal_forced_aligner.alignment import AlignMixin\n",
      "  File \"C:\\Users\\chris\\.conda\\envs\\mfa\\lib\\site-packages\\montreal_forced_aligner\\alignment\\__init__.py\", line 6, in <module>\n",
      "    from montreal_forced_aligner.alignment.adapting import AdaptingAligner\n",
      "  File \"C:\\Users\\chris\\.conda\\envs\\mfa\\lib\\site-packages\\montreal_forced_aligner\\alignment\\adapting.py\", line 18, in <module>\n",
      "    from montreal_forced_aligner.alignment.pretrained import PretrainedAligner\n",
      "  File \"C:\\Users\\chris\\.conda\\envs\\mfa\\lib\\site-packages\\montreal_forced_aligner\\alignment\\pretrained.py\", line 43, in <module>\n",
      "    from montreal_forced_aligner.transcription.transcriber import TranscriberMixin\n",
      "  File \"C:\\Users\\chris\\.conda\\envs\\mfa\\lib\\site-packages\\montreal_forced_aligner\\transcription\\__init__.py\", line 2, in <module>\n",
      "    from montreal_forced_aligner.transcription.transcriber import Transcriber\n",
      "  File \"C:\\Users\\chris\\.conda\\envs\\mfa\\lib\\site-packages\\montreal_forced_aligner\\transcription\\transcriber.py\", line 35, in <module>\n",
      "    from montreal_forced_aligner.alignment.base import CorpusAligner\n",
      "  File \"C:\\Users\\chris\\.conda\\envs\\mfa\\lib\\site-packages\\montreal_forced_aligner\\alignment\\base.py\", line 46, in <module>\n",
      "    from montreal_forced_aligner.corpus.acoustic_corpus import AcousticCorpusPronunciationMixin\n",
      "  File \"C:\\Users\\chris\\.conda\\envs\\mfa\\lib\\site-packages\\montreal_forced_aligner\\corpus\\__init__.py\", line 9, in <module>\n",
      "    from montreal_forced_aligner.corpus.acoustic_corpus import (\n",
      "  File \"C:\\Users\\chris\\.conda\\envs\\mfa\\lib\\site-packages\\montreal_forced_aligner\\corpus\\acoustic_corpus.py\", line 24, in <module>\n",
      "    from montreal_forced_aligner.corpus.base import CorpusMixin\n",
      "  File \"C:\\Users\\chris\\.conda\\envs\\mfa\\lib\\site-packages\\montreal_forced_aligner\\corpus\\base.py\", line 19, in <module>\n",
      "    from montreal_forced_aligner.corpus.classes import FileData, UtteranceData\n",
      "  File \"C:\\Users\\chris\\.conda\\envs\\mfa\\lib\\site-packages\\montreal_forced_aligner\\corpus\\classes.py\", line 13, in <module>\n",
      "    from montreal_forced_aligner.corpus.helper import get_wav_info, load_text\n",
      "  File \"C:\\Users\\chris\\.conda\\envs\\mfa\\lib\\site-packages\\montreal_forced_aligner\\corpus\\helper.py\", line 7, in <module>\n",
      "    import soundfile\n",
      "  File \"C:\\Users\\chris\\.conda\\envs\\mfa\\lib\\site-packages\\soundfile.py\", line 192, in <module>\n",
      "    _snd = _ffi.dlopen(_explicit_libname)\n",
      "OSError: cannot load library 'libsndfile.dll': error 0x7e\n",
      "\n"
     ]
    }
   ],
   "source": [
    "command = f\"mfa validate --debug --ignore_acoustics {input_dir} {pronunc_dict_dir}\"\n",
    "print(f\"Running command: {command}\")\n",
    "out = subprocess.run(command, shell=True, capture_output=True, text=True)\n",
    "print(out.stderr)"
   ]
  },
  {
   "cell_type": "markdown",
   "metadata": {},
   "source": [
    "### Phonemize missing words"
   ]
  },
  {
   "cell_type": "code",
   "execution_count": null,
   "metadata": {},
   "outputs": [],
   "source": [
    "missing_words_file_stump = 'oovs_found_german_mfa' # automatically generated by MFA\n",
    "\n",
    "oov_output_file_path = os.path.join(mfa_root_dir, 'input', f\"{missing_words_file_stump}.txt\")\n",
    "oov_folder_dir = os.path.join(mfa_root_dir, 'oov_corpus')\n",
    "os.makedirs(oov_folder_dir, exist_ok=True)\n",
    "\n",
    "shutil.copy(oov_output_file_path, oov_folder_dir)\n",
    "command = f\"mfa g2p --clean {oov_folder_dir} german_mfa {os.path.join(mfa_root_dir, missing_words_file_stump, missing_words_file_stump)}_g2p.txt\"\n",
    "out = subprocess.run(command, shell=True, capture_output=True, text=True)"
   ]
  },
  {
   "cell_type": "markdown",
   "metadata": {},
   "source": [
    "### Add the missing words to the dictionary."
   ]
  },
  {
   "cell_type": "code",
   "execution_count": null,
   "metadata": {},
   "outputs": [],
   "source": [
    "command = f\"mfa model add_words german_mfa {os.path.join(mfa_root_dir, missing_words_file_stump, missing_words_file_stump)}_g2p.txt\"\n",
    "subprocess.run(command, shell=True, capture_output=True, text=True)"
   ]
  },
  {
   "cell_type": "markdown",
   "metadata": {},
   "source": [
    "### Run the aligner"
   ]
  },
  {
   "cell_type": "code",
   "execution_count": 8,
   "metadata": {},
   "outputs": [],
   "source": [
    "os.makedirs(output_dir, exist_ok=True)\n",
    "command = f\"mfa align --clean --debug --overwrite {input_dir} {pronunc_dict_dir} {acoustic_model_path} {output_dir}\"\n",
    "out = subprocess.run(command, shell=True, capture_output=True, text=True)\n",
    "# TODO: FIX ERROR. REINSTALL ENVIRONMENT"
   ]
  },
  {
   "cell_type": "code",
   "execution_count": null,
   "metadata": {},
   "outputs": [],
   "source": [
    "print(out.stderr)"
   ]
  },
  {
   "cell_type": "code",
   "execution_count": null,
   "metadata": {},
   "outputs": [],
   "source": []
  }
 ],
 "metadata": {
  "kernelspec": {
   "display_name": "mfa",
   "language": "python",
   "name": "python3"
  },
  "language_info": {
   "codemirror_mode": {
    "name": "ipython",
    "version": 3
   },
   "file_extension": ".py",
   "mimetype": "text/x-python",
   "name": "python",
   "nbconvert_exporter": "python",
   "pygments_lexer": "ipython3",
   "version": "3.10.15"
  }
 },
 "nbformat": 4,
 "nbformat_minor": 2
}
